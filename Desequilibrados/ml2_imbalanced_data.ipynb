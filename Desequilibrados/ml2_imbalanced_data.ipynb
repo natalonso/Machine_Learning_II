{
 "cells": [
  {
   "cell_type": "markdown",
   "metadata": {},
   "source": [
    "# Clasificación desequilibrada"
   ]
  },
  {
   "cell_type": "code",
   "execution_count": 1,
   "metadata": {},
   "outputs": [],
   "source": [
    "import csv\n",
    "import numpy as np\n",
    "import pandas as pd\n",
    "import seaborn as sns\n",
    "import matplotlib.pyplot as plt\n",
    "\n",
    "import tensorflow as tf\n",
    "from tensorflow import keras\n",
    "from tensorflow.keras import Sequential\n",
    "from tensorflow.keras.layers import Dense\n",
    "\n",
    "import sklearn\n",
    "from sklearn.model_selection import train_test_split\n",
    "from sklearn.metrics import confusion_matrix\n",
    "from sklearn.preprocessing import StandardScaler\n",
    "from sklearn import metrics\n",
    "\n",
    "tf.random.set_seed(1234)\n",
    "\n",
    "from imblearn.datasets import fetch_datasets\n",
    "from sklearn.model_selection import train_test_split\n",
    "from sklearn.metrics import confusion_matrix , classification_report , accuracy_score"
   ]
  },
  {
   "cell_type": "code",
   "execution_count": 2,
   "metadata": {},
   "outputs": [
    {
     "name": "stdout",
     "output_type": "stream",
     "text": [
      "<class 'pandas.core.frame.DataFrame'>\n",
      "RangeIndex: 15119 entries, 0 to 15118\n",
      "Data columns (total 14 columns):\n",
      " #   Column             Non-Null Count  Dtype  \n",
      "---  ------             --------------  -----  \n",
      " 0   bedrooms           15119 non-null  int64  \n",
      " 1   bathrooms_group    15119 non-null  int64  \n",
      " 2   log_sqft_living    15119 non-null  float64\n",
      " 3   log_lot            15119 non-null  float64\n",
      " 4   sqft_basement_cat  15119 non-null  int64  \n",
      " 5   waterfront         15119 non-null  int64  \n",
      " 6   view               15119 non-null  int64  \n",
      " 7   condition          15119 non-null  int64  \n",
      " 8   grade_categ        15119 non-null  int64  \n",
      " 9   lat                15119 non-null  float64\n",
      " 10  long               15119 non-null  float64\n",
      " 11  zona               15119 non-null  int64  \n",
      " 12  yr_renovated_catg  15119 non-null  int64  \n",
      " 13  price_categ1       15119 non-null  object \n",
      "dtypes: float64(4), int64(9), object(1)\n",
      "memory usage: 1.6+ MB\n"
     ]
    }
   ],
   "source": [
    "# Cargamos los datos: Convertir las variables a continuas, las númericas sin transformar y las categóricas se codifican\n",
    "\n",
    "data = pd.read_csv('datos.csv', index_col=False)  \n",
    "data.head(5)\n",
    "data.info()\n"
   ]
  },
  {
   "cell_type": "code",
   "execution_count": 3,
   "metadata": {},
   "outputs": [
    {
     "data": {
      "text/html": [
       "<div>\n",
       "<style scoped>\n",
       "    .dataframe tbody tr th:only-of-type {\n",
       "        vertical-align: middle;\n",
       "    }\n",
       "\n",
       "    .dataframe tbody tr th {\n",
       "        vertical-align: top;\n",
       "    }\n",
       "\n",
       "    .dataframe thead th {\n",
       "        text-align: right;\n",
       "    }\n",
       "</style>\n",
       "<table border=\"1\" class=\"dataframe\">\n",
       "  <thead>\n",
       "    <tr style=\"text-align: right;\">\n",
       "      <th></th>\n",
       "      <th>bedrooms</th>\n",
       "      <th>bathrooms_group</th>\n",
       "      <th>log_sqft_living</th>\n",
       "      <th>log_lot</th>\n",
       "      <th>sqft_basement_cat</th>\n",
       "      <th>waterfront</th>\n",
       "      <th>grade_categ</th>\n",
       "      <th>zona</th>\n",
       "      <th>price_categ1</th>\n",
       "    </tr>\n",
       "  </thead>\n",
       "  <tbody>\n",
       "    <tr>\n",
       "      <th>0</th>\n",
       "      <td>3</td>\n",
       "      <td>0</td>\n",
       "      <td>3.029384</td>\n",
       "      <td>3.681241</td>\n",
       "      <td>1</td>\n",
       "      <td>0</td>\n",
       "      <td>1</td>\n",
       "      <td>1</td>\n",
       "      <td>B1</td>\n",
       "    </tr>\n",
       "    <tr>\n",
       "      <th>1</th>\n",
       "      <td>3</td>\n",
       "      <td>0</td>\n",
       "      <td>3.127105</td>\n",
       "      <td>4.803437</td>\n",
       "      <td>0</td>\n",
       "      <td>0</td>\n",
       "      <td>1</td>\n",
       "      <td>1</td>\n",
       "      <td>B1</td>\n",
       "    </tr>\n",
       "    <tr>\n",
       "      <th>2</th>\n",
       "      <td>3</td>\n",
       "      <td>0</td>\n",
       "      <td>3.271842</td>\n",
       "      <td>3.697578</td>\n",
       "      <td>1</td>\n",
       "      <td>0</td>\n",
       "      <td>1</td>\n",
       "      <td>2</td>\n",
       "      <td>B1</td>\n",
       "    </tr>\n",
       "    <tr>\n",
       "      <th>3</th>\n",
       "      <td>3</td>\n",
       "      <td>0</td>\n",
       "      <td>3.152288</td>\n",
       "      <td>3.610660</td>\n",
       "      <td>0</td>\n",
       "      <td>0</td>\n",
       "      <td>1</td>\n",
       "      <td>2</td>\n",
       "      <td>C1</td>\n",
       "    </tr>\n",
       "    <tr>\n",
       "      <th>4</th>\n",
       "      <td>3</td>\n",
       "      <td>1</td>\n",
       "      <td>3.741152</td>\n",
       "      <td>4.544068</td>\n",
       "      <td>1</td>\n",
       "      <td>0</td>\n",
       "      <td>2</td>\n",
       "      <td>2</td>\n",
       "      <td>C1</td>\n",
       "    </tr>\n",
       "  </tbody>\n",
       "</table>\n",
       "</div>"
      ],
      "text/plain": [
       "   bedrooms  bathrooms_group  log_sqft_living   log_lot  sqft_basement_cat  \\\n",
       "0         3                0         3.029384  3.681241                  1   \n",
       "1         3                0         3.127105  4.803437                  0   \n",
       "2         3                0         3.271842  3.697578                  1   \n",
       "3         3                0         3.152288  3.610660                  0   \n",
       "4         3                1         3.741152  4.544068                  1   \n",
       "\n",
       "   waterfront  grade_categ  zona price_categ1  \n",
       "0           0            1     1           B1  \n",
       "1           0            1     1           B1  \n",
       "2           0            1     2           B1  \n",
       "3           0            1     2           C1  \n",
       "4           0            2     2           C1  "
      ]
     },
     "execution_count": 3,
     "metadata": {},
     "output_type": "execute_result"
    }
   ],
   "source": [
    "# Eliminamos algunas variables\n",
    "\n",
    "data = data.drop([\"view\", \"condition\", \"lat\", \"long\", \"yr_renovated_catg\"], axis=1)\n",
    "data.head(5)"
   ]
  },
  {
   "cell_type": "code",
   "execution_count": 4,
   "metadata": {},
   "outputs": [
    {
     "data": {
      "text/plain": [
       "0    B1\n",
       "1    B1\n",
       "2    B1\n",
       "3    C1\n",
       "4    C1\n",
       "Name: price_categ1, dtype: object"
      ]
     },
     "execution_count": 4,
     "metadata": {},
     "output_type": "execute_result"
    }
   ],
   "source": [
    "# Dividimos las variables de entrada y target\n",
    "\n",
    "y=data.price_categ1\n",
    "y.head(5)"
   ]
  },
  {
   "cell_type": "code",
   "execution_count": 5,
   "metadata": {},
   "outputs": [
    {
     "name": "stdout",
     "output_type": "stream",
     "text": [
      "<class 'pandas.core.frame.DataFrame'>\n",
      "RangeIndex: 15119 entries, 0 to 15118\n",
      "Data columns (total 8 columns):\n",
      " #   Column             Non-Null Count  Dtype  \n",
      "---  ------             --------------  -----  \n",
      " 0   bedrooms           15119 non-null  int64  \n",
      " 1   bathrooms_group    15119 non-null  int64  \n",
      " 2   log_sqft_living    15119 non-null  float64\n",
      " 3   log_lot            15119 non-null  float64\n",
      " 4   sqft_basement_cat  15119 non-null  int64  \n",
      " 5   waterfront         15119 non-null  int64  \n",
      " 6   grade_categ        15119 non-null  int64  \n",
      " 7   zona               15119 non-null  int64  \n",
      "dtypes: float64(2), int64(6)\n",
      "memory usage: 945.1 KB\n"
     ]
    }
   ],
   "source": [
    "# Las variables de entrada numéricas:\n",
    "\n",
    "X=data.drop(\"price_categ1\", axis=1)\n",
    "X.head(5)\n",
    "X.info()"
   ]
  },
  {
   "cell_type": "code",
   "execution_count": 20,
   "metadata": {},
   "outputs": [
    {
     "name": "stdout",
     "output_type": "stream",
     "text": [
      "0    0\n",
      "1    0\n",
      "2    0\n",
      "3    1\n",
      "4    1\n",
      "Name: price_categ1, dtype: int64\n"
     ]
    }
   ],
   "source": [
    "# Convertimos el target en 0/1\n",
    "\n",
    "y = y.replace(\"B1\",0)\n",
    "y = y.replace(\"C1\",1)\n",
    "print(y.head(5))\n"
   ]
  },
  {
   "cell_type": "code",
   "execution_count": 21,
   "metadata": {},
   "outputs": [
    {
     "data": {
      "text/plain": [
       "Text(0, 0.5, 'Recuento')"
      ]
     },
     "execution_count": 21,
     "metadata": {},
     "output_type": "execute_result"
    },
    {
     "data": {
      "image/png": "[encoded data removed]",
      "text/plain": [
       "<Figure size 432x288 with 1 Axes>"
      ]
     },
     "metadata": {
      "needs_background": "light"
     },
     "output_type": "display_data"
    }
   ],
   "source": [
    "# Distribución del target\n",
    "\n",
    "colors = [\"#0101DF\", \"#DF0101\"]\n",
    "sns.countplot(y, data=data, palette=colors)\n",
    "plt.title('Distribución de las casas según su clase', fontsize=14)\n",
    "plt.xlabel(\"Clase 0 : baratas | Clase 1 : caras\")\n",
    "plt.ylabel(\"Recuento\")"
   ]
  },
  {
   "cell_type": "code",
   "execution_count": 7,
   "metadata": {},
   "outputs": [
    {
     "name": "stdout",
     "output_type": "stream",
     "text": [
      "Baratas: 11448 75.72 %\n",
      "Caras: 3671 24.28 %\n"
     ]
    }
   ],
   "source": [
    "# Recuento del número de observaciones para cada clase\n",
    "\n",
    "print('Baratas:', round(data['price_categ1'].value_counts()[0]), round(data['price_categ1'].value_counts()[0]/len(data) * 100,2), '%')\n",
    "print('Caras:', round(data['price_categ1'].value_counts()[1]),round(data['price_categ1'].value_counts()[1]/len(data) * 100,2), '%')\n"
   ]
  },
  {
   "cell_type": "code",
   "execution_count": 22,
   "metadata": {},
   "outputs": [
    {
     "name": "stdout",
     "output_type": "stream",
     "text": [
      "<class 'pandas.core.frame.DataFrame'>\n",
      "RangeIndex: 15119 entries, 0 to 15118\n",
      "Data columns (total 8 columns):\n",
      " #   Column             Non-Null Count  Dtype  \n",
      "---  ------             --------------  -----  \n",
      " 0   bedrooms           15119 non-null  int64  \n",
      " 1   bathrooms_group    15119 non-null  int64  \n",
      " 2   log_sqft_living    15119 non-null  float64\n",
      " 3   log_lot            15119 non-null  float64\n",
      " 4   sqft_basement_cat  15119 non-null  int64  \n",
      " 5   waterfront         15119 non-null  int64  \n",
      " 6   grade_categ        15119 non-null  int64  \n",
      " 7   zona               15119 non-null  int64  \n",
      "dtypes: float64(2), int64(6)\n",
      "memory usage: 945.1 KB\n"
     ]
    }
   ],
   "source": [
    "# Resumen de las variables de entrada\n",
    "\n",
    "X.info()"
   ]
  },
  {
   "cell_type": "code",
   "execution_count": 23,
   "metadata": {},
   "outputs": [
    {
     "name": "stdout",
     "output_type": "stream",
     "text": [
      "(15119, 8) (10583, 8) (2268, 8) (2268, 8)\n",
      "<class 'pandas.core.frame.DataFrame'>\n",
      "(15119,) (10583,) (2268,) (2268,)\n",
      "<class 'pandas.core.series.Series'>\n"
     ]
    }
   ],
   "source": [
    "# Dividimos en train, test y validación\n",
    "\n",
    "X_train, X_test, y_train, y_test = train_test_split(X, y, stratify=y, test_size=0.3, random_state=0)\n",
    "X_test, X_val, y_test, y_val = train_test_split(X_test, y_test, stratify=y_test, test_size=0.5, random_state=0)\n",
    "\n",
    "print(X.shape, X_train.shape, X_test.shape, X_val.shape)\n",
    "print(type(X_train))\n",
    "\n",
    "print(y.shape, y_train.shape, y_test.shape, y_val.shape)\n",
    "print(type(y_train))"
   ]
  },
  {
   "cell_type": "code",
   "execution_count": 24,
   "metadata": {},
   "outputs": [
    {
     "name": "stdout",
     "output_type": "stream",
     "text": [
      "Baratas: 8013 75.72 %\n",
      "Caras: 2570 24.28 %\n"
     ]
    }
   ],
   "source": [
    "# Distribución de y_train:\n",
    "\n",
    "print('Baratas:', round(y_train.value_counts()[0]), round(y_train.value_counts()[0]/len(y_train) * 100,2), '%')\n",
    "print('Caras:', round(y_train.value_counts()[1]),round(y_train.value_counts()[1]/len(y_train) * 100,2), '%')"
   ]
  },
  {
   "cell_type": "code",
   "execution_count": 10,
   "metadata": {},
   "outputs": [],
   "source": [
    "# Normalizamos\n",
    "\n",
    "scaler = StandardScaler()\n",
    "X_train = scaler.fit_transform(X_train)\n",
    "X_test = scaler.transform(X_test)"
   ]
  },
  {
   "cell_type": "code",
   "execution_count": 11,
   "metadata": {},
   "outputs": [],
   "source": [
    "# Definimos nuestro MLP: \n",
    "# Únicamente tendrá una capa oculta.\n",
    "# Número de neuronas de la capa oculta: M.\n",
    "# Tasa de aprendizaje: lr\n",
    "# Función de activación: activation\n",
    "# El coste subrogado será el MSE (coste de Bregman).\n",
    "\n",
    "\n",
    "def make_model(M, lr, activation):\n",
    "    model = tf.keras.Sequential()\n",
    "    model.add(tf.keras.layers.Dense(M, activation=activation, input_dim=X_train.shape[1]))\n",
    "    model.add(tf.keras.layers.Dense(1, activation=activation))\n",
    "    \n",
    "    model.compile(\n",
    "        optimizer=keras.optimizers.RMSprop(lr=lr),\n",
    "        loss=keras.losses.MeanSquaredError()\n",
    "    )\n",
    "    \n",
    "    return model"
   ]
  },
  {
   "cell_type": "code",
   "execution_count": 27,
   "metadata": {},
   "outputs": [
    {
     "name": "stdout",
     "output_type": "stream",
     "text": [
      "Model: \"sequential_3\"\n",
      "_________________________________________________________________\n",
      "Layer (type)                 Output Shape              Param #   \n",
      "=================================================================\n",
      "dense_6 (Dense)              (None, 10)                90        \n",
      "_________________________________________________________________\n",
      "dense_7 (Dense)              (None, 1)                 11        \n",
      "=================================================================\n",
      "Total params: 101\n",
      "Trainable params: 101\n",
      "Non-trainable params: 0\n",
      "_________________________________________________________________\n"
     ]
    }
   ],
   "source": [
    "# Establecemos los parámetros del modelo\n",
    "\n",
    "M = 10\n",
    "lr = 0.001\n",
    "\n",
    "activation = 'tanh'\n",
    "epochs=300\n",
    "batch_size=256\n",
    "\n",
    "model = make_model(M, lr, activation)\n",
    "model.summary()\n",
    "\n",
    "history = model.fit(X_train, y_train, epochs=epochs, batch_size=batch_size, verbose=0)\n",
    "y_pred_test = model.predict(X_test).ravel()\n",
    "y_pred_val = model.predict(X_val).ravel()"
   ]
  },
  {
   "cell_type": "code",
   "execution_count": 28,
   "metadata": {},
   "outputs": [
    {
     "data": {
      "image/png": "[encoded data removed]",
      "text/plain": [
       "<Figure size 936x432 with 2 Axes>"
      ]
     },
     "metadata": {
      "needs_background": "light"
     },
     "output_type": "display_data"
    }
   ],
   "source": [
    "# Curvas ROC\n",
    "\n",
    "fpr, tpr, thresholds = metrics.roc_curve(y_test, y_pred_test, pos_label=1)\n",
    "plt.figure(figsize = (13, 6))\n",
    "plt.subplot(121)\n",
    "plt.axis([0, 1, 0, 1])\n",
    "plt.plot(fpr, tpr, label='MLP (IB)')\n",
    "plt.xlabel('$P_{FA}$', fontsize = 15)\n",
    "plt.ylabel('$P_D$', fontsize = 15)\n",
    "plt.legend(loc='lower right')\n",
    "plt.subplot(122)\n",
    "\n",
    "cte = 20\n",
    "x_r = [np.log10(1+cte*0.1)/np.log10(1+cte), \n",
    "       np.log10(1+cte*0.2)/np.log10(1+cte),\n",
    "       np.log10(1+cte*0.3)/np.log10(1+cte),\n",
    "       np.log10(1+cte*0.4)/np.log10(1+cte),\n",
    "       np.log10(1+cte*0.5)/np.log10(1+cte)]\n",
    "#fig, ax = plt.subplots(figsize = (10, 10))\n",
    "plt.axis([0, np.log10(1+cte*0.5)/np.log10(1+cte), 0.5, 1])\n",
    "\n",
    "plt.axvline(x=np.log10(1+cte*0.01)/np.log10(1+cte), c = 'grey', ls = ':', lw=3)\n",
    "plt.text(np.log10(1+cte*0.01)/np.log10(1+cte) - 0.01, 0.8, '$P_{FAW}=0.01$', fontsize=18,\n",
    "               rotation=90, rotation_mode='anchor')\n",
    "plt.xticks(x_r,[0.1, 0.2, \"\", \"\", 0.5, \"\", \"\", \"\", \"\", 1])\n",
    "plt.plot(np.log10(1+cte*fpr)/np.log10(1+cte), tpr, label='MLP (IB)')\n",
    "\n",
    "plt.xlabel('$P_{FA}$')\n",
    "plt.ylabel('$P_{D}$')\n",
    "plt.legend()\n",
    "plt.legend(loc='lower right')\n",
    "plt.show()"
   ]
  },
  {
   "cell_type": "code",
   "execution_count": 29,
   "metadata": {},
   "outputs": [
    {
     "name": "stdout",
     "output_type": "stream",
     "text": [
      "Y_test  (2268,)\n",
      "Y_pred_test:  (2268,)\n",
      "minimo:  -0.35808727\n",
      "maximo:  0.9924369\n",
      "[0. 0. 0. ... 0. 0. 0.]\n"
     ]
    }
   ],
   "source": [
    "print(\"Y_test \", y_test.shape)\n",
    "print(\"Y_pred_test: \", y_pred_test.shape)\n",
    "\n",
    "print(\"minimo: \", min(y_pred_test))\n",
    "print(\"maximo: \", max(y_pred_test))\n",
    "\n",
    "y_pred_test[y_pred_test <0]=0\n",
    "y_pred_test[y_pred_test >0]=1\n",
    "\n",
    "print(y_pred_test)"
   ]
  },
  {
   "cell_type": "code",
   "execution_count": 30,
   "metadata": {},
   "outputs": [
    {
     "name": "stdout",
     "output_type": "stream",
     "text": [
      "Matriz de confusión: \n",
      "[[850 867]\n",
      " [  3 548]]\n",
      "\n",
      "\n",
      "Informe de clasificación: \n",
      "              precision    recall  f1-score   support\n",
      "\n",
      "           0       1.00      0.50      0.66      1717\n",
      "           1       0.39      0.99      0.56       551\n",
      "\n",
      "    accuracy                           0.62      2268\n",
      "   macro avg       0.69      0.74      0.61      2268\n",
      "weighted avg       0.85      0.62      0.64      2268\n",
      "\n",
      "\n",
      "\n",
      "Accuracy: \n",
      "0.6164021164021164\n",
      "\n",
      "\n"
     ]
    }
   ],
   "source": [
    "# Evaluación del modelo:\n",
    "\n",
    "print(\"Matriz de confusión: \")\n",
    "print(confusion_matrix(y_test , y_pred_test))\n",
    "print(\"\\n\")\n",
    "\n",
    "print(\"Informe de clasificación: \")\n",
    "print(classification_report(y_test , y_pred_test))\n",
    "print(\"\\n\")\n",
    "\n",
    "print(\"Accuracy: \")\n",
    "print(accuracy_score(y_test , y_pred_test))\n",
    "print(\"\\n\")"
   ]
  }
 ],
 "metadata": {
  "kernelspec": {
   "display_name": "Python 3",
   "language": "python",
   "name": "python3"
  },
  "language_info": {
   "codemirror_mode": {
    "name": "ipython",
    "version": 3
   },
   "file_extension": ".py",
   "mimetype": "text/x-python",
   "name": "python",
   "nbconvert_exporter": "python",
   "pygments_lexer": "ipython3",
   "version": "3.7.7"
  }
 },
 "nbformat": 4,
 "nbformat_minor": 4
}
